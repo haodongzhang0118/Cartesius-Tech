{
 "cells": [
  {
   "cell_type": "code",
   "execution_count": 330,
   "metadata": {},
   "outputs": [],
   "source": [
    "import tensorflow as tf\n",
    "import numpy as np\n",
    "import pandas as pd\n",
    "\n",
    "from sklearn.preprocessing import OrdinalEncoder\n",
    "from sklearn.model_selection import train_test_split\n",
    "\n",
    "seed = 1234\n",
    "tf.random.set_seed(seed)\n",
    "np.random.seed(seed)"
   ]
  },
  {
   "cell_type": "code",
   "execution_count": 331,
   "metadata": {},
   "outputs": [],
   "source": [
    "data_positive = pd.read_csv(\"samples_positive.csv\")\n",
    "data_negative = pd.read_csv(\"samples_negative.csv\")"
   ]
  },
  {
   "cell_type": "code",
   "execution_count": 332,
   "metadata": {},
   "outputs": [
    {
     "data": {
      "text/html": [
       "<div>\n",
       "<style scoped>\n",
       "    .dataframe tbody tr th:only-of-type {\n",
       "        vertical-align: middle;\n",
       "    }\n",
       "\n",
       "    .dataframe tbody tr th {\n",
       "        vertical-align: top;\n",
       "    }\n",
       "\n",
       "    .dataframe thead th {\n",
       "        text-align: right;\n",
       "    }\n",
       "</style>\n",
       "<table border=\"1\" class=\"dataframe\">\n",
       "  <thead>\n",
       "    <tr style=\"text-align: right;\">\n",
       "      <th></th>\n",
       "      <th>GPA</th>\n",
       "      <th>SAT Reading &amp; Writing</th>\n",
       "      <th>SAT Math</th>\n",
       "      <th>SAT Essay</th>\n",
       "      <th>Activity Score</th>\n",
       "      <th>Personal Statement Score</th>\n",
       "      <th>Residency</th>\n",
       "      <th>Race</th>\n",
       "      <th>Gender</th>\n",
       "      <th>Accepted</th>\n",
       "    </tr>\n",
       "  </thead>\n",
       "  <tbody>\n",
       "    <tr>\n",
       "      <th>0</th>\n",
       "      <td>4.0</td>\n",
       "      <td>751</td>\n",
       "      <td>709</td>\n",
       "      <td>17</td>\n",
       "      <td>80</td>\n",
       "      <td>80</td>\n",
       "      <td>International</td>\n",
       "      <td>Asian</td>\n",
       "      <td>Female</td>\n",
       "      <td>1</td>\n",
       "    </tr>\n",
       "    <tr>\n",
       "      <th>1</th>\n",
       "      <td>3.7</td>\n",
       "      <td>790</td>\n",
       "      <td>782</td>\n",
       "      <td>17</td>\n",
       "      <td>80</td>\n",
       "      <td>80</td>\n",
       "      <td>CA resident</td>\n",
       "      <td>Asian</td>\n",
       "      <td>Male</td>\n",
       "      <td>1</td>\n",
       "    </tr>\n",
       "    <tr>\n",
       "      <th>2</th>\n",
       "      <td>3.5</td>\n",
       "      <td>744</td>\n",
       "      <td>729</td>\n",
       "      <td>16</td>\n",
       "      <td>80</td>\n",
       "      <td>80</td>\n",
       "      <td>International</td>\n",
       "      <td>White</td>\n",
       "      <td>Male</td>\n",
       "      <td>1</td>\n",
       "    </tr>\n",
       "    <tr>\n",
       "      <th>3</th>\n",
       "      <td>4.0</td>\n",
       "      <td>759</td>\n",
       "      <td>737</td>\n",
       "      <td>17</td>\n",
       "      <td>80</td>\n",
       "      <td>80</td>\n",
       "      <td>CA resident</td>\n",
       "      <td>White</td>\n",
       "      <td>Female</td>\n",
       "      <td>1</td>\n",
       "    </tr>\n",
       "    <tr>\n",
       "      <th>4</th>\n",
       "      <td>4.0</td>\n",
       "      <td>707</td>\n",
       "      <td>759</td>\n",
       "      <td>18</td>\n",
       "      <td>80</td>\n",
       "      <td>80</td>\n",
       "      <td>CA resident</td>\n",
       "      <td>Asian</td>\n",
       "      <td>Female</td>\n",
       "      <td>1</td>\n",
       "    </tr>\n",
       "  </tbody>\n",
       "</table>\n",
       "</div>"
      ],
      "text/plain": [
       "   GPA  SAT Reading & Writing  SAT Math  SAT Essay  Activity Score  \\\n",
       "0  4.0                    751       709         17              80   \n",
       "1  3.7                    790       782         17              80   \n",
       "2  3.5                    744       729         16              80   \n",
       "3  4.0                    759       737         17              80   \n",
       "4  4.0                    707       759         18              80   \n",
       "\n",
       "   Personal Statement Score      Residency   Race  Gender  Accepted  \n",
       "0                        80  International  Asian  Female         1  \n",
       "1                        80    CA resident  Asian    Male         1  \n",
       "2                        80  International  White    Male         1  \n",
       "3                        80    CA resident  White  Female         1  \n",
       "4                        80    CA resident  Asian  Female         1  "
      ]
     },
     "execution_count": 332,
     "metadata": {},
     "output_type": "execute_result"
    }
   ],
   "source": [
    "data = pd.concat([data_positive, data_negative])\n",
    "data.head()"
   ]
  },
  {
   "cell_type": "code",
   "execution_count": 333,
   "metadata": {},
   "outputs": [],
   "source": [
    "obj_cols = data.select_dtypes(include=['object']).columns\n",
    "processed_data = data.copy()\n",
    "residency_ordinal_encoder = OrdinalEncoder()\n",
    "processed_data[obj_cols] = residency_ordinal_encoder.fit_transform(data[obj_cols])"
   ]
  },
  {
   "cell_type": "code",
   "execution_count": 334,
   "metadata": {},
   "outputs": [
    {
     "data": {
      "text/html": [
       "<div>\n",
       "<style scoped>\n",
       "    .dataframe tbody tr th:only-of-type {\n",
       "        vertical-align: middle;\n",
       "    }\n",
       "\n",
       "    .dataframe tbody tr th {\n",
       "        vertical-align: top;\n",
       "    }\n",
       "\n",
       "    .dataframe thead th {\n",
       "        text-align: right;\n",
       "    }\n",
       "</style>\n",
       "<table border=\"1\" class=\"dataframe\">\n",
       "  <thead>\n",
       "    <tr style=\"text-align: right;\">\n",
       "      <th></th>\n",
       "      <th>GPA</th>\n",
       "      <th>SAT Reading &amp; Writing</th>\n",
       "      <th>SAT Math</th>\n",
       "      <th>SAT Essay</th>\n",
       "      <th>Activity Score</th>\n",
       "      <th>Personal Statement Score</th>\n",
       "      <th>Residency</th>\n",
       "      <th>Race</th>\n",
       "      <th>Gender</th>\n",
       "      <th>Accepted</th>\n",
       "    </tr>\n",
       "  </thead>\n",
       "  <tbody>\n",
       "    <tr>\n",
       "      <th>0</th>\n",
       "      <td>4.0</td>\n",
       "      <td>751</td>\n",
       "      <td>709</td>\n",
       "      <td>17</td>\n",
       "      <td>80</td>\n",
       "      <td>80</td>\n",
       "      <td>1.0</td>\n",
       "      <td>2.0</td>\n",
       "      <td>0.0</td>\n",
       "      <td>1</td>\n",
       "    </tr>\n",
       "    <tr>\n",
       "      <th>1</th>\n",
       "      <td>3.7</td>\n",
       "      <td>790</td>\n",
       "      <td>782</td>\n",
       "      <td>17</td>\n",
       "      <td>80</td>\n",
       "      <td>80</td>\n",
       "      <td>0.0</td>\n",
       "      <td>2.0</td>\n",
       "      <td>2.0</td>\n",
       "      <td>1</td>\n",
       "    </tr>\n",
       "    <tr>\n",
       "      <th>2</th>\n",
       "      <td>3.5</td>\n",
       "      <td>744</td>\n",
       "      <td>729</td>\n",
       "      <td>16</td>\n",
       "      <td>80</td>\n",
       "      <td>80</td>\n",
       "      <td>1.0</td>\n",
       "      <td>7.0</td>\n",
       "      <td>2.0</td>\n",
       "      <td>1</td>\n",
       "    </tr>\n",
       "    <tr>\n",
       "      <th>3</th>\n",
       "      <td>4.0</td>\n",
       "      <td>759</td>\n",
       "      <td>737</td>\n",
       "      <td>17</td>\n",
       "      <td>80</td>\n",
       "      <td>80</td>\n",
       "      <td>0.0</td>\n",
       "      <td>7.0</td>\n",
       "      <td>0.0</td>\n",
       "      <td>1</td>\n",
       "    </tr>\n",
       "    <tr>\n",
       "      <th>4</th>\n",
       "      <td>4.0</td>\n",
       "      <td>707</td>\n",
       "      <td>759</td>\n",
       "      <td>18</td>\n",
       "      <td>80</td>\n",
       "      <td>80</td>\n",
       "      <td>0.0</td>\n",
       "      <td>2.0</td>\n",
       "      <td>0.0</td>\n",
       "      <td>1</td>\n",
       "    </tr>\n",
       "  </tbody>\n",
       "</table>\n",
       "</div>"
      ],
      "text/plain": [
       "   GPA  SAT Reading & Writing  SAT Math  SAT Essay  Activity Score  \\\n",
       "0  4.0                    751       709         17              80   \n",
       "1  3.7                    790       782         17              80   \n",
       "2  3.5                    744       729         16              80   \n",
       "3  4.0                    759       737         17              80   \n",
       "4  4.0                    707       759         18              80   \n",
       "\n",
       "   Personal Statement Score  Residency  Race  Gender  Accepted  \n",
       "0                        80        1.0   2.0     0.0         1  \n",
       "1                        80        0.0   2.0     2.0         1  \n",
       "2                        80        1.0   7.0     2.0         1  \n",
       "3                        80        0.0   7.0     0.0         1  \n",
       "4                        80        0.0   2.0     0.0         1  "
      ]
     },
     "execution_count": 334,
     "metadata": {},
     "output_type": "execute_result"
    }
   ],
   "source": [
    "processed_data.head()"
   ]
  },
  {
   "cell_type": "code",
   "execution_count": 335,
   "metadata": {},
   "outputs": [],
   "source": [
    "shuffled_data = processed_data.sample(frac=1, random_state=seed).reset_index(drop=True)"
   ]
  },
  {
   "cell_type": "code",
   "execution_count": 336,
   "metadata": {},
   "outputs": [
    {
     "data": {
      "text/html": [
       "<div>\n",
       "<style scoped>\n",
       "    .dataframe tbody tr th:only-of-type {\n",
       "        vertical-align: middle;\n",
       "    }\n",
       "\n",
       "    .dataframe tbody tr th {\n",
       "        vertical-align: top;\n",
       "    }\n",
       "\n",
       "    .dataframe thead th {\n",
       "        text-align: right;\n",
       "    }\n",
       "</style>\n",
       "<table border=\"1\" class=\"dataframe\">\n",
       "  <thead>\n",
       "    <tr style=\"text-align: right;\">\n",
       "      <th></th>\n",
       "      <th>GPA</th>\n",
       "      <th>SAT Reading &amp; Writing</th>\n",
       "      <th>SAT Math</th>\n",
       "      <th>SAT Essay</th>\n",
       "      <th>Activity Score</th>\n",
       "      <th>Personal Statement Score</th>\n",
       "      <th>Residency</th>\n",
       "      <th>Race</th>\n",
       "      <th>Gender</th>\n",
       "      <th>Accepted</th>\n",
       "    </tr>\n",
       "  </thead>\n",
       "  <tbody>\n",
       "    <tr>\n",
       "      <th>0</th>\n",
       "      <td>3.6</td>\n",
       "      <td>751</td>\n",
       "      <td>753</td>\n",
       "      <td>16</td>\n",
       "      <td>80</td>\n",
       "      <td>80</td>\n",
       "      <td>0.0</td>\n",
       "      <td>2.0</td>\n",
       "      <td>0.0</td>\n",
       "      <td>1</td>\n",
       "    </tr>\n",
       "    <tr>\n",
       "      <th>1</th>\n",
       "      <td>3.9</td>\n",
       "      <td>712</td>\n",
       "      <td>796</td>\n",
       "      <td>16</td>\n",
       "      <td>80</td>\n",
       "      <td>80</td>\n",
       "      <td>0.0</td>\n",
       "      <td>2.0</td>\n",
       "      <td>2.0</td>\n",
       "      <td>1</td>\n",
       "    </tr>\n",
       "    <tr>\n",
       "      <th>2</th>\n",
       "      <td>3.6</td>\n",
       "      <td>768</td>\n",
       "      <td>743</td>\n",
       "      <td>18</td>\n",
       "      <td>80</td>\n",
       "      <td>80</td>\n",
       "      <td>1.0</td>\n",
       "      <td>4.0</td>\n",
       "      <td>0.0</td>\n",
       "      <td>1</td>\n",
       "    </tr>\n",
       "    <tr>\n",
       "      <th>3</th>\n",
       "      <td>3.6</td>\n",
       "      <td>717</td>\n",
       "      <td>783</td>\n",
       "      <td>16</td>\n",
       "      <td>80</td>\n",
       "      <td>80</td>\n",
       "      <td>0.0</td>\n",
       "      <td>4.0</td>\n",
       "      <td>2.0</td>\n",
       "      <td>1</td>\n",
       "    </tr>\n",
       "    <tr>\n",
       "      <th>4</th>\n",
       "      <td>3.9</td>\n",
       "      <td>785</td>\n",
       "      <td>744</td>\n",
       "      <td>16</td>\n",
       "      <td>80</td>\n",
       "      <td>80</td>\n",
       "      <td>0.0</td>\n",
       "      <td>2.0</td>\n",
       "      <td>0.0</td>\n",
       "      <td>1</td>\n",
       "    </tr>\n",
       "  </tbody>\n",
       "</table>\n",
       "</div>"
      ],
      "text/plain": [
       "   GPA  SAT Reading & Writing  SAT Math  SAT Essay  Activity Score  \\\n",
       "0  3.6                    751       753         16              80   \n",
       "1  3.9                    712       796         16              80   \n",
       "2  3.6                    768       743         18              80   \n",
       "3  3.6                    717       783         16              80   \n",
       "4  3.9                    785       744         16              80   \n",
       "\n",
       "   Personal Statement Score  Residency  Race  Gender  Accepted  \n",
       "0                        80        0.0   2.0     0.0         1  \n",
       "1                        80        0.0   2.0     2.0         1  \n",
       "2                        80        1.0   4.0     0.0         1  \n",
       "3                        80        0.0   4.0     2.0         1  \n",
       "4                        80        0.0   2.0     0.0         1  "
      ]
     },
     "execution_count": 336,
     "metadata": {},
     "output_type": "execute_result"
    }
   ],
   "source": [
    "shuffled_data.head()"
   ]
  },
  {
   "cell_type": "code",
   "execution_count": 337,
   "metadata": {},
   "outputs": [],
   "source": [
    "y = shuffled_data.pop(\"Accepted\")\n",
    "X = shuffled_data.copy()"
   ]
  },
  {
   "cell_type": "code",
   "execution_count": 338,
   "metadata": {},
   "outputs": [],
   "source": [
    "X_train, X_test, y_train, y_test = train_test_split(X, y, test_size=0.2, random_state=seed)"
   ]
  },
  {
   "cell_type": "code",
   "execution_count": 339,
   "metadata": {},
   "outputs": [],
   "source": [
    "def create_model():\n",
    "    model = tf.keras.Sequential([\n",
    "        tf.keras.layers.Dense(1, activation=\"sigmoid\", input_shape=(9, ))\n",
    "    ])\n",
    "    model.compile(optimizer='sgd', loss='binary_crossentropy', metrics=['accuracy'])\n",
    "    return model"
   ]
  },
  {
   "cell_type": "code",
   "execution_count": 340,
   "metadata": {},
   "outputs": [],
   "source": [
    "model = create_model()"
   ]
  },
  {
   "cell_type": "code",
   "execution_count": 341,
   "metadata": {},
   "outputs": [
    {
     "name": "stdout",
     "output_type": "stream",
     "text": [
      "Epoch 1/50\n",
      "150/150 [==============================] - 0s 1ms/step - loss: 1085.5012 - accuracy: 0.5619 - val_loss: 1199.7026 - val_accuracy: 0.6567\n",
      "Epoch 2/50\n",
      "150/150 [==============================] - 0s 893us/step - loss: 1053.5315 - accuracy: 0.5660 - val_loss: 360.6918 - val_accuracy: 0.6567\n",
      "Epoch 3/50\n",
      "150/150 [==============================] - 0s 905us/step - loss: 1031.7712 - accuracy: 0.5640 - val_loss: 2148.1509 - val_accuracy: 0.3433\n",
      "Epoch 4/50\n",
      "150/150 [==============================] - 0s 890us/step - loss: 926.9409 - accuracy: 0.5919 - val_loss: 11.2688 - val_accuracy: 0.9442\n",
      "Epoch 5/50\n",
      "150/150 [==============================] - 0s 924us/step - loss: 956.3192 - accuracy: 0.5823 - val_loss: 574.1177 - val_accuracy: 0.3433\n",
      "Epoch 6/50\n",
      "150/150 [==============================] - 0s 1ms/step - loss: 858.4219 - accuracy: 0.5925 - val_loss: 1827.5643 - val_accuracy: 0.6567\n",
      "Epoch 7/50\n",
      "150/150 [==============================] - 0s 931us/step - loss: 899.6639 - accuracy: 0.5921 - val_loss: 109.0141 - val_accuracy: 0.4158\n",
      "Epoch 8/50\n",
      "150/150 [==============================] - 0s 889us/step - loss: 817.7167 - accuracy: 0.6023 - val_loss: 1164.5770 - val_accuracy: 0.3433\n",
      "Epoch 9/50\n",
      "150/150 [==============================] - 0s 900us/step - loss: 823.5831 - accuracy: 0.5985 - val_loss: 1632.9775 - val_accuracy: 0.6567\n",
      "Epoch 10/50\n",
      "150/150 [==============================] - 0s 907us/step - loss: 729.2870 - accuracy: 0.6340 - val_loss: 136.3952 - val_accuracy: 0.4358\n",
      "Epoch 11/50\n",
      "150/150 [==============================] - 0s 887us/step - loss: 692.2809 - accuracy: 0.6308 - val_loss: 100.6483 - val_accuracy: 0.7700\n",
      "Epoch 12/50\n",
      "150/150 [==============================] - 0s 901us/step - loss: 632.8411 - accuracy: 0.6506 - val_loss: 1390.7286 - val_accuracy: 0.6567\n",
      "Epoch 13/50\n",
      "150/150 [==============================] - 0s 890us/step - loss: 514.9299 - accuracy: 0.6917 - val_loss: 30.1051 - val_accuracy: 0.8758\n",
      "Epoch 14/50\n",
      "150/150 [==============================] - 0s 888us/step - loss: 531.2950 - accuracy: 0.6896 - val_loss: 923.6852 - val_accuracy: 0.6567\n",
      "Epoch 15/50\n",
      "150/150 [==============================] - 0s 922us/step - loss: 623.3890 - accuracy: 0.6383 - val_loss: 329.7545 - val_accuracy: 0.6667\n",
      "Epoch 16/50\n",
      "150/150 [==============================] - 0s 878us/step - loss: 462.3145 - accuracy: 0.7048 - val_loss: 38.3550 - val_accuracy: 0.9442\n",
      "Epoch 17/50\n",
      "150/150 [==============================] - 0s 872us/step - loss: 436.4791 - accuracy: 0.7165 - val_loss: 864.1798 - val_accuracy: 0.3433\n",
      "Epoch 18/50\n",
      "150/150 [==============================] - 0s 881us/step - loss: 373.6351 - accuracy: 0.7485 - val_loss: 34.4837 - val_accuracy: 0.9058\n",
      "Epoch 19/50\n",
      "150/150 [==============================] - 0s 905us/step - loss: 276.2159 - accuracy: 0.7777 - val_loss: 157.9127 - val_accuracy: 0.5000\n",
      "Epoch 20/50\n",
      "150/150 [==============================] - 0s 891us/step - loss: 369.9030 - accuracy: 0.7244 - val_loss: 55.9786 - val_accuracy: 0.9125\n",
      "Epoch 21/50\n",
      "150/150 [==============================] - 0s 994us/step - loss: 390.6418 - accuracy: 0.7279 - val_loss: 654.8618 - val_accuracy: 0.6567\n",
      "Epoch 22/50\n",
      "150/150 [==============================] - 0s 888us/step - loss: 321.0912 - accuracy: 0.7633 - val_loss: 162.2348 - val_accuracy: 0.7600\n",
      "Epoch 23/50\n",
      "150/150 [==============================] - 0s 911us/step - loss: 298.1034 - accuracy: 0.7798 - val_loss: 51.4830 - val_accuracy: 0.9308\n",
      "Epoch 24/50\n",
      "150/150 [==============================] - 0s 882us/step - loss: 267.4808 - accuracy: 0.7812 - val_loss: 112.6607 - val_accuracy: 0.6150\n",
      "Epoch 25/50\n",
      "150/150 [==============================] - 0s 904us/step - loss: 225.8534 - accuracy: 0.7965 - val_loss: 533.2113 - val_accuracy: 0.6583\n",
      "Epoch 26/50\n",
      "150/150 [==============================] - 0s 899us/step - loss: 295.4894 - accuracy: 0.7800 - val_loss: 45.2618 - val_accuracy: 0.9517\n",
      "Epoch 27/50\n",
      "150/150 [==============================] - 0s 905us/step - loss: 247.3784 - accuracy: 0.7906 - val_loss: 40.1510 - val_accuracy: 0.9508\n",
      "Epoch 28/50\n",
      "150/150 [==============================] - 0s 898us/step - loss: 291.4236 - accuracy: 0.7738 - val_loss: 41.2470 - val_accuracy: 0.9542\n",
      "Epoch 29/50\n",
      "150/150 [==============================] - 0s 916us/step - loss: 170.5048 - accuracy: 0.8367 - val_loss: 41.3119 - val_accuracy: 0.9533\n",
      "Epoch 30/50\n",
      "150/150 [==============================] - 0s 882us/step - loss: 213.0839 - accuracy: 0.8085 - val_loss: 79.0478 - val_accuracy: 0.8933\n",
      "Epoch 31/50\n",
      "150/150 [==============================] - 0s 907us/step - loss: 272.0431 - accuracy: 0.7881 - val_loss: 54.5605 - val_accuracy: 0.9400\n",
      "Epoch 32/50\n",
      "150/150 [==============================] - 0s 893us/step - loss: 160.8165 - accuracy: 0.8498 - val_loss: 41.8071 - val_accuracy: 0.9467\n",
      "Epoch 33/50\n",
      "150/150 [==============================] - 0s 886us/step - loss: 232.9626 - accuracy: 0.8079 - val_loss: 50.8082 - val_accuracy: 0.8567\n",
      "Epoch 34/50\n",
      "150/150 [==============================] - 0s 887us/step - loss: 167.6642 - accuracy: 0.8340 - val_loss: 43.0029 - val_accuracy: 0.9208\n",
      "Epoch 35/50\n",
      "150/150 [==============================] - 0s 873us/step - loss: 234.7615 - accuracy: 0.8092 - val_loss: 43.0500 - val_accuracy: 0.9292\n",
      "Epoch 36/50\n",
      "150/150 [==============================] - 0s 875us/step - loss: 206.7718 - accuracy: 0.8244 - val_loss: 128.5965 - val_accuracy: 0.6150\n",
      "Epoch 37/50\n",
      "150/150 [==============================] - 0s 891us/step - loss: 182.7430 - accuracy: 0.8271 - val_loss: 44.2729 - val_accuracy: 0.9508\n",
      "Epoch 38/50\n",
      "150/150 [==============================] - 0s 896us/step - loss: 198.5096 - accuracy: 0.8240 - val_loss: 44.3531 - val_accuracy: 0.9492\n",
      "Epoch 39/50\n",
      "150/150 [==============================] - 0s 979us/step - loss: 198.3286 - accuracy: 0.8198 - val_loss: 486.1600 - val_accuracy: 0.6675\n",
      "Epoch 40/50\n",
      "150/150 [==============================] - 0s 877us/step - loss: 184.2866 - accuracy: 0.8356 - val_loss: 58.3343 - val_accuracy: 0.9408\n",
      "Epoch 41/50\n",
      "150/150 [==============================] - 0s 903us/step - loss: 169.7466 - accuracy: 0.8348 - val_loss: 44.9299 - val_accuracy: 0.9467\n",
      "Epoch 42/50\n",
      "150/150 [==============================] - 0s 889us/step - loss: 139.6304 - accuracy: 0.8598 - val_loss: 47.6026 - val_accuracy: 0.9000\n",
      "Epoch 43/50\n",
      "150/150 [==============================] - 0s 892us/step - loss: 192.4055 - accuracy: 0.8196 - val_loss: 109.5231 - val_accuracy: 0.6717\n",
      "Epoch 44/50\n",
      "150/150 [==============================] - 0s 892us/step - loss: 142.6468 - accuracy: 0.8602 - val_loss: 531.3934 - val_accuracy: 0.3433\n",
      "Epoch 45/50\n",
      "150/150 [==============================] - 0s 921us/step - loss: 151.9163 - accuracy: 0.8450 - val_loss: 939.8539 - val_accuracy: 0.6567\n",
      "Epoch 46/50\n",
      "150/150 [==============================] - 0s 897us/step - loss: 231.6210 - accuracy: 0.8158 - val_loss: 49.1162 - val_accuracy: 0.9558\n",
      "Epoch 47/50\n",
      "150/150 [==============================] - 0s 884us/step - loss: 189.2438 - accuracy: 0.8375 - val_loss: 166.6084 - val_accuracy: 0.7967\n",
      "Epoch 48/50\n",
      "150/150 [==============================] - 0s 867us/step - loss: 150.1770 - accuracy: 0.8600 - val_loss: 282.0367 - val_accuracy: 0.4417\n",
      "Epoch 49/50\n",
      "150/150 [==============================] - 0s 903us/step - loss: 165.1126 - accuracy: 0.8400 - val_loss: 237.5910 - val_accuracy: 0.7450\n",
      "Epoch 50/50\n",
      "150/150 [==============================] - 0s 872us/step - loss: 167.5140 - accuracy: 0.8408 - val_loss: 46.7359 - val_accuracy: 0.9375\n"
     ]
    },
    {
     "data": {
      "text/plain": [
       "<keras.callbacks.History at 0x1436e4a2ad0>"
      ]
     },
     "execution_count": 341,
     "metadata": {},
     "output_type": "execute_result"
    }
   ],
   "source": [
    "model.fit(X_train, y_train, validation_data=(X_test, y_test), epochs=50)"
   ]
  },
  {
   "cell_type": "code",
   "execution_count": 342,
   "metadata": {},
   "outputs": [
    {
     "name": "stdout",
     "output_type": "stream",
     "text": [
      "1/1 [==============================] - 0s 45ms/step\n"
     ]
    },
    {
     "data": {
      "text/plain": [
       "array([[1.],\n",
       "       [1.]], dtype=float32)"
      ]
     },
     "execution_count": 342,
     "metadata": {},
     "output_type": "execute_result"
    }
   ],
   "source": [
    "model.predict([[3.5, 710, 740, 18, 80, 80, 3.0, 5.0, 0.0], \n",
    "               [4.0, 780, 780, 18, 80, 80, 3.0, 5.0, 0.0]])"
   ]
  },
  {
   "cell_type": "code",
   "execution_count": 343,
   "metadata": {},
   "outputs": [
    {
     "name": "stdout",
     "output_type": "stream",
     "text": [
      "1/1 [==============================] - 0s 26ms/step\n"
     ]
    },
    {
     "data": {
      "text/plain": [
       "array([[0.],\n",
       "       [0.]], dtype=float32)"
      ]
     },
     "execution_count": 343,
     "metadata": {},
     "output_type": "execute_result"
    }
   ],
   "source": [
    "model.predict([[2.0, 600, 600, 16, 100, 100, 3.0, 2.0, 0.0],\n",
    "               [2.6, 700, 600, 13, 80, 80, 1.0, 2.0, 1.0]])"
   ]
  },
  {
   "cell_type": "code",
   "execution_count": 344,
   "metadata": {},
   "outputs": [],
   "source": [
    "model.save_weights(\"logistic_weights.h5\")"
   ]
  },
  {
   "cell_type": "code",
   "execution_count": 345,
   "metadata": {},
   "outputs": [],
   "source": [
    "model = create_model()"
   ]
  },
  {
   "cell_type": "code",
   "execution_count": 346,
   "metadata": {},
   "outputs": [],
   "source": [
    "model.load_weights(\"logistic_weights.h5\")"
   ]
  },
  {
   "cell_type": "code",
   "execution_count": 347,
   "metadata": {},
   "outputs": [
    {
     "name": "stdout",
     "output_type": "stream",
     "text": [
      "38/38 [==============================] - 0s 623us/step - loss: 46.7359 - accuracy: 0.9375\n"
     ]
    },
    {
     "data": {
      "text/plain": [
       "[46.73590850830078, 0.9375]"
      ]
     },
     "execution_count": 347,
     "metadata": {},
     "output_type": "execute_result"
    }
   ],
   "source": [
    "model.evaluate(X_test, y_test)"
   ]
  },
  {
   "cell_type": "code",
   "execution_count": null,
   "metadata": {},
   "outputs": [],
   "source": []
  }
 ],
 "metadata": {
  "kernelspec": {
   "display_name": "Python 3",
   "language": "python",
   "name": "python3"
  },
  "language_info": {
   "codemirror_mode": {
    "name": "ipython",
    "version": 3
   },
   "file_extension": ".py",
   "mimetype": "text/x-python",
   "name": "python",
   "nbconvert_exporter": "python",
   "pygments_lexer": "ipython3",
   "version": "3.10.4"
  },
  "orig_nbformat": 4
 },
 "nbformat": 4,
 "nbformat_minor": 2
}
